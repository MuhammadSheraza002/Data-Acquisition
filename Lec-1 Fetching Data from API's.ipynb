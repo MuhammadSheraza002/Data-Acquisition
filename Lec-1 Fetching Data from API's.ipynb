{
 "cells": [
  {
   "cell_type": "markdown",
   "id": "d42d32da-1b37-4fc4-aea9-99366a1a9eab",
   "metadata": {},
   "source": [
    "---   \n",
    " <img align=\"left\" width=\"75\" height=\"75\"  src=\"https://upload.wikimedia.org/wikipedia/en/c/c8/University_of_the_Punjab_logo.png\"> \n",
    "\n",
    "<h1 align=\"center\">Department of Data Science</h1>\n",
    "<h1 align=\"center\">Course: Data Acquisition</h1>\n",
    "\n",
    "---\n",
    "<h1 align=\"center\">Lecture 1 (Fetching Data from API's)</h1>\n",
    "\n",
    "---\n",
    "<img align=\"left\" width=\"400\" src=\"images/acq.PNG\"  >\n",
    "<img align=\"center\" width=\"400\" height=\"650\"  src=\"images/scrap.PNG\"  >"
   ]
  },
  {
   "cell_type": "code",
   "execution_count": null,
   "id": "c054e083-e58a-4274-8846-ce66a78d83b8",
   "metadata": {},
   "outputs": [],
   "source": []
  },
  {
   "cell_type": "code",
   "execution_count": null,
   "id": "ab6fcc21-461a-4643-a347-599385991ac4",
   "metadata": {},
   "outputs": [],
   "source": []
  },
  {
   "cell_type": "markdown",
   "id": "282fc39d-57d0-4d0d-9e4d-78c0b73366d4",
   "metadata": {},
   "source": [
    "# What is an API?\n",
    "\n",
    "**API** stands for *Application Programming Interface.* In simple terms, it’s a set of rules and protocols that allow different software applications to communicate and interact with each other. APIs define the methods and data formats that applications can use to request and exchange information.\n",
    "\n",
    "To retrieve data from a web server, a client application initiates a request, and the server responds with the requested data. APIs facilitate this communication by serving as intermediaries, allowing seamless integration between diverse software systems. In essence, APIs act as bridges that enable the smooth exchange of data and functionality, enhancing interoperability across various applications.\n"
   ]
  },
  {
   "cell_type": "code",
   "execution_count": null,
   "id": "6244ed6e-f4a0-4328-87ae-7c87a3348efe",
   "metadata": {},
   "outputs": [],
   "source": []
  },
  {
   "cell_type": "markdown",
   "id": "dd54b460-2217-40e2-9a9e-e87b904e87bb",
   "metadata": {},
   "source": [
    "# Example: Weather API\n",
    "\n",
    "Imagine you have a weather application on your smartphone that provides current weather conditions, forecasts, and other related information. This weather app relies on data from a remote weather service provider, which exposes its functionality through an API.\n",
    "\n",
    "## Request\n",
    "When you open the weather app and want to check the current weather in your location, the app sends a request to the weather service's API. This request includes parameters like your location coordinates or city name.\n",
    "\n",
    "## API Interaction\n",
    "The weather service's API receives the request and processes it. It then accesses its database or connects to external sources to gather the necessary weather data for your location.\n",
    "\n",
    "## Response\n",
    "Once the weather service has retrieved the data, it sends a response back to the weather app. This response contains information such as the current temperature, humidity, wind speed, and weather conditions.\n",
    "\n",
    "## App Display\n",
    "The weather app receives the response from the API and displays the weather information to you in a user-friendly format, such as a graphical interface showing temperature, icons representing weather conditions, and textual descriptions.\n",
    "\n",
    "**In this scenario:**\n",
    "\n",
    "- **API:** The weather service's API defines the methods (e.g., \"getWeather\") and data formats (e.g., JSON or XML) that the weather app can use to request weather information.\n",
    "\n",
    "- **Client Application:** The weather app on your smartphone acts as the client application, which initiates requests to the weather service's API to retrieve weather data.\n",
    "\n",
    "- **Server:** The weather service operates the server that hosts the API. It processes incoming requests, gathers the necessary data, and sends back responses to the client application.\n",
    "\n",
    "This example demonstrates how APIs enable different software systems, such as the weather app and the weather service, to communicate and exchange data, ultimately providing users with valuable functionality and information.\n"
   ]
  },
  {
   "cell_type": "code",
   "execution_count": null,
   "id": "3c2692a8-d80a-4af2-8e11-0e464bcc06df",
   "metadata": {},
   "outputs": [],
   "source": []
  },
  {
   "cell_type": "code",
   "execution_count": null,
   "id": "6181d86b-3e7f-48c9-8ce0-22ed7a775145",
   "metadata": {},
   "outputs": [],
   "source": []
  },
  {
   "cell_type": "markdown",
   "id": "27e89f03-8b01-4d06-88b9-eb6e1275584c",
   "metadata": {},
   "source": [
    "# Reasons to Use API\r\n",
    "\r\n",
    "When it comes to obtaining data, the question arises: why use an API when we can get data in the form of a CSV file from the resource? Let's delve into some examples to understand the advantages of using APIs\n",
    "### \n",
    "## Change in  \n",
    "ata\r\n",
    "Suppose we are using an API to collect data about the temperature of all the cities in India. As the temperature changes with time, downloading a new CSV file every time we need the information would consume a significant amount of bandwidth and time for processing. On the contrary, using the API allows for easy and quick retrieval of the updated dat#a.\r\n",
    "\r\n",
    "## Size of Data\r\n",
    "In certain scenarios, we may only require a small part of a large dataset. For instance, if our goal is to obtain comments on a tweet, there's no need to download the entire dataset of Twitter. The task can be efficiently accomplished with the help of the Twitter API. APIs enable the extraction of specific, targeted data, minimizing unnecessary data transfer and optimizing the process for tasks that require only a fraction of the available information.\r\n"
   ]
  },
  {
   "cell_type": "code",
   "execution_count": null,
   "id": "d22c1240-2967-4e50-b60d-56b2ba2cc9f0",
   "metadata": {},
   "outputs": [],
   "source": []
  }
 ],
 "metadata": {
  "kernelspec": {
   "display_name": "Python 3 (ipykernel)",
   "language": "python",
   "name": "python3"
  },
  "language_info": {
   "codemirror_mode": {
    "name": "ipython",
    "version": 3
   },
   "file_extension": ".py",
   "mimetype": "text/x-python",
   "name": "python",
   "nbconvert_exporter": "python",
   "pygments_lexer": "ipython3",
   "version": "3.10.6"
  }
 },
 "nbformat": 4,
 "nbformat_minor": 5
}
