{
 "cells": [
  {
   "cell_type": "markdown",
   "id": "d42d32da-1b37-4fc4-aea9-99366a1a9eab",
   "metadata": {},
   "source": [
    "---   \n",
    " <img align=\"left\" width=\"75\" height=\"75\"  src=\"https://upload.wikimedia.org/wikipedia/en/c/c8/University_of_the_Punjab_logo.png\"> \n",
    "\n",
    "<h1 align=\"center\">Department of Data Science</h1>\n",
    "<h1 align=\"center\">Course: Data Acquisition</h1>\n",
    "\n",
    "---\n",
    "<h1 align=\"center\">Lecture 1 (Fetching Data from API's)</h1>\n",
    "\n",
    "---\n",
    "<img align=\"left\" width=\"450\" src=\"images/acq.PNG\"  >\n",
    "<img align=\"center\" width=\"500\" height=\"850\"  src=\"images/whatisapi.PNG\"  >"
   ]
  },
  {
   "cell_type": "code",
   "execution_count": null,
   "id": "c054e083-e58a-4274-8846-ce66a78d83b8",
   "metadata": {},
   "outputs": [],
   "source": []
  },
  {
   "cell_type": "code",
   "execution_count": null,
   "id": "ab6fcc21-461a-4643-a347-599385991ac4",
   "metadata": {},
   "outputs": [],
   "source": []
  },
  {
   "cell_type": "markdown",
   "id": "282fc39d-57d0-4d0d-9e4d-78c0b73366d4",
   "metadata": {},
   "source": [
    "# What is an API?\n",
    "<img align=\"right\" width=\"600\" height=\"950\"  src=\"images/What-is-an-API.PNG\"  >\n",
    "\n",
    "- **API** stands for *Application Programming Interface.*\r\n",
    "- In simple terms, it’s a set of rules and protocols that allow different software applications to communicate and interact with each other.\r\n",
    "- APIs define the methods and data formats that applications can use to request and exchange information.\r\n",
    "\r\n",
    "To retrieve data from a web server:\r\n",
    "- A client application initiates a request.\r\n",
    "- The server responds with the requested data.\r\n",
    "\r\n",
    "- APIs facilitate this communication by serving as intermediaries.\r\n",
    "- They allow seamless integration between diverse software systems.\r\n",
    "- APIs act as bridges that enable the smooth exchange of data and functionality.\r\n",
    "- They enhance interoperability across various applications.\r\n"
   ]
  },
  {
   "cell_type": "code",
   "execution_count": null,
   "id": "6244ed6e-f4a0-4328-87ae-7c87a3348efe",
   "metadata": {},
   "outputs": [],
   "source": []
  },
  {
   "cell_type": "markdown",
   "id": "f581cf6c-e9ad-4cd4-88c3-afb1d9a396af",
   "metadata": {},
   "source": [
    "# Making API Requests in Python\n",
    "\n",
    "To work with APIs in Python, you'll need some tools, such as the 'requests' library. Before using it, you must install it in your system.\n",
    "\n",
    "**Command to install 'requests':**\n",
    "```bash\n",
    "pip install requests\n"
   ]
  },
  {
   "cell_type": "code",
   "execution_count": 1,
   "id": "3f063e4a-3578-4457-9102-2372f6a97556",
   "metadata": {},
   "outputs": [
    {
     "name": "stdout",
     "output_type": "stream",
     "text": [
      "Defaulting to user installation because normal site-packages is not writeable\n",
      "Requirement already satisfied: requests in c:\\users\\lenovo\\appdata\\roaming\\python\\python310\\site-packages (2.31.0)\n",
      "Requirement already satisfied: charset-normalizer<4,>=2 in c:\\users\\lenovo\\appdata\\roaming\\python\\python310\\site-packages (from requests) (3.3.2)\n",
      "Requirement already satisfied: idna<4,>=2.5 in c:\\users\\lenovo\\appdata\\roaming\\python\\python310\\site-packages (from requests) (3.4)\n",
      "Requirement already satisfied: urllib3<3,>=1.21.1 in c:\\users\\lenovo\\appdata\\roaming\\python\\python310\\site-packages (from requests) (1.26.18)\n",
      "Requirement already satisfied: certifi>=2017.4.17 in c:\\users\\lenovo\\appdata\\roaming\\python\\python310\\site-packages (from requests) (2023.7.22)\n",
      "Note: you may need to restart the kernel to use updated packages.\n"
     ]
    }
   ],
   "source": [
    "pip install requests"
   ]
  },
  {
   "cell_type": "code",
   "execution_count": 2,
   "id": "51a9974c-8630-42ed-95d4-aa20560793a3",
   "metadata": {},
   "outputs": [],
   "source": [
    "import requests"
   ]
  },
  {
   "cell_type": "markdown",
   "id": "dd54b460-2217-40e2-9a9e-e87b904e87bb",
   "metadata": {},
   "source": [
    "# Example: Weather API\r\n",
    "\r\n",
    "Imagine you have a weather application on your smartphone that provides current weather conditions, forecasts, and other related information. This weather app relies on data from a remote weather service provider, which exposes its functionality through an API.\r\n",
    "\r\n",
    "## Request\r\n",
    "- When you open the weather app and want to check the current weather in your location, the app sends a request to the weather service's API.\r\n",
    "- This request includes parameters like your location coordinates or city name.\r\n",
    "\r\n",
    "## API Interaction\r\n",
    "- The weather service's API receives the request and processes it.\r\n",
    "- It then accesses its database or connects to external sources to gather the necessary weather data for your location.\r\n",
    "\r\n",
    "## Response\r\n",
    "- Once the weather service has retrieved the data, it sends a response back to the weather app.\r\n",
    "- This response contains information such as the current temperature, humidity, wind speed, and weather conditions.\r\n",
    "\r\n",
    "## App Display\r\n",
    "- The weather app receives the response from the API and displays the weather information to you in a user-friendly format.\r\n",
    "- This format may include a graphical interface showing temperature, icons representing weather conditions, and textual descriptions.\r\n",
    "\r\n",
    "**In this scenario:**\r\n",
    "\r\n",
    "- **API:** The weather service's API defines the methods (e.g., \"getWeather\") and data formats (e.g., JSON or XML) that the weather app can use to request weather information.\r\n",
    "\r\n",
    "- **Client Application:** The weather app on your smartphone acts as the client application, which initiates requests to the weather service's API to retrieve weather data.\r\n",
    "\r\n",
    "- **Server:** The weather service operates the server that hosts the API. It processes incoming requests, gathers the necessary data, and sends back responses to the client application.\r\n",
    "\r\n",
    "This example demonstrates how APIs enable different software systems, such as the weather app and the weather service, to communicate and exchange data, ultimately providing users with valuable functionality and information.\r\n"
   ]
  },
  {
   "cell_type": "code",
   "execution_count": null,
   "id": "9177494c-6c27-4343-8c99-8ba814854a36",
   "metadata": {},
   "outputs": [],
   "source": []
  },
  {
   "cell_type": "code",
   "execution_count": 3,
   "id": "388b2736-94fd-48a2-b59d-d03a5ffa46e9",
   "metadata": {},
   "outputs": [
    {
     "name": "stdout",
     "output_type": "stream",
     "text": [
      "IBM: 185.3000\n"
     ]
    }
   ],
   "source": [
    "import requests\n",
    "import json\n",
    "# Function to get live stock data for a symbol\n",
    "def get_stock_data():\n",
    "\turl = f\"https://www.alphavantage.co/query?function=TIME_SERIES_INTRADAY&symbol=IBM&interval=5min&outputsize=full&apikey=demo\"\n",
    "\tresponse = requests.get(url)\n",
    "\t\n",
    "\t# Check if the response is successful\n",
    "\tif response.status_code == 200:\n",
    "\t\tdata = response.json()\n",
    "\t\tlast_refreshed = data[\"Meta Data\"][\"3. Last Refreshed\"]\n",
    "\t\tprice = data[\"Time Series (5min)\"][last_refreshed][\"1. open\"]\n",
    "\t\treturn price\n",
    "\telse:\n",
    "\t\treturn None\n",
    "\n",
    "stock_prices = {}\n",
    "price = get_stock_data()\n",
    "symbol=\"IBM\"\n",
    "if price is not None:\n",
    "\tstock_prices[symbol] = price\n",
    "\n",
    "print(f\"{symbol}: {price}\")\n"
   ]
  },
  {
   "cell_type": "code",
   "execution_count": null,
   "id": "a071d95d-f743-4402-97c4-e295b8df62aa",
   "metadata": {},
   "outputs": [],
   "source": []
  },
  {
   "cell_type": "markdown",
   "id": "b5ee4d45-4932-477b-becd-957c878c39c2",
   "metadata": {},
   "source": [
    "# API Status Codes\n",
    "\n",
    "Status codes provide information about the outcome of a request, indicating whether it was successfully executed or if there was an error during processing. They are returned with every request.\n",
    "\n",
    "**Codes related to “GET” request:**\n",
    "- **200 OK:** The server successfully processed the request, and the requested data is returned.\n",
    "- **201 Created:** A new resource is created on the server as a result of the request.\n",
    "- **204 No Content:** The request is successful, but there is no additional data to return.\n",
    "- **300 Multiple Choices:** The requested resource has multiple representations, each with its own URL.\n",
    "- **302 Found (Temporary Redirect):** The requested resource is temporarily located at a different URL.\n",
    "- **304 Not Modified:** The client’s cached copy of the resource is still valid, and no re-download is necessary.\n",
    "- **400 Bad Request:** The request has malformed syntax or contains invalid data, making it incomprehensible to the server.\n",
    "- **401 Unauthorized:** Authentication is required, and the client’s credentials (e.g., API key) are missing or invalid.\n",
    "- **500 Internal Server Error:** An unexpected server error occurred during request processing.\n",
    "- **502 Bad Gateway:** Acting as a gateway or proxy, the server received an invalid response from an upstream server.\n",
    "\n",
    "These status codes help communicate the outcome of API requests and guide developers and clients in understanding the results, errors, or necessary actions.\n",
    "\n",
    "# API Documentation\n",
    "\n",
    "API Documentation is essential for effective interaction. Here, we are using NewsAPI, which provides information regarding various news from different countries and celebrities. To get news updates from NewsAPI, we need a special key called an API key, stored in a variable named API_KEY.\n",
    "\n",
    "Next, we build a specific URL that tells NewsAPI what kind of news we want, such as top business headlines from the United States. It's like specifying a preference to a librarian.\n",
    "\n",
    "After setting up this request, our code sends a message to NewsAPI using this URL, similar to clicking on a link to see a webpage. NewsAPI replies with a status update, indicating if the request was successful. We then print out this status to check if everything worked as expected.\n"
   ]
  },
  {
   "cell_type": "code",
   "execution_count": null,
   "id": "6181d86b-3e7f-48c9-8ce0-22ed7a775145",
   "metadata": {},
   "outputs": [],
   "source": []
  },
  {
   "cell_type": "code",
   "execution_count": null,
   "id": "e81946b2-5633-4aec-9d43-3c5a926eb9ea",
   "metadata": {},
   "outputs": [],
   "source": []
  },
  {
   "cell_type": "code",
   "execution_count": 4,
   "id": "80251f3a-e7ba-4e2b-ad11-baaa03f5c1ab",
   "metadata": {},
   "outputs": [
    {
     "name": "stdout",
     "output_type": "stream",
     "text": [
      "200\n"
     ]
    }
   ],
   "source": [
    "import requests\n",
    "# Replace 'API_KEY' with your actual API key from NewsAPI\n",
    "API_KEY = '3805f6bbabcb42b3a0c08a489baf603d'\n",
    "url = f\"https://newsapi.org/v2/top-headlines?country=us&category=business&apiKey={API_KEY}\"\n",
    "response = requests.get(url)\n",
    "print(response.status_code)\n"
   ]
  },
  {
   "cell_type": "code",
   "execution_count": null,
   "id": "ec9e9188-467b-4917-ad38-b60025df6e69",
   "metadata": {},
   "outputs": [],
   "source": []
  },
  {
   "cell_type": "markdown",
   "id": "27e89f03-8b01-4d06-88b9-eb6e1275584c",
   "metadata": {},
   "source": [
    "# Reasons to Use API\r\n",
    "\r\n",
    "When it comes to obtaining data, the question arises: why use an API when we can get data in the form of a CSV file from the resource? Let's delve into some examples to understand the advantages of using APIs.\r\n",
    "\r\n",
    "### Change in Data\r\n",
    "\r\n",
    "- **Scenario:** Suppose we are using an API to collect data about the temperature of all the cities in India.\r\n",
    "- **Challenge:** As the temperature changes with time, downloading a new CSV file every time we need the information would consume a significant amount of bandwidth and time for processing.\r\n",
    "- **Advantage of API:** Using the API allows for easy and quick retrieval of the updated data.\r\n",
    "\r\n",
    "### Size of Data\r\n",
    "\r\n",
    "- **Scenario:** In certain scenarios, we may only require a small part of a large dataset.\r\n",
    "- **Example:** If our goal is to obtain comments on a tweet, there's no need to download the entire dataset of Twitter.\r\n",
    "- **Advantage of API:** APIs enable the extraction of specific, targeted data, minimizing unnecessary data transfer and optimizing the process for tasks that require only a fraction of the available information.\r\n",
    "tion.\r\n"
   ]
  },
  {
   "cell_type": "code",
   "execution_count": null,
   "id": "d22c1240-2967-4e50-b60d-56b2ba2cc9f0",
   "metadata": {},
   "outputs": [],
   "source": []
  }
 ],
 "metadata": {
  "kernelspec": {
   "display_name": "Python 3 (ipykernel)",
   "language": "python",
   "name": "python3"
  },
  "language_info": {
   "codemirror_mode": {
    "name": "ipython",
    "version": 3
   },
   "file_extension": ".py",
   "mimetype": "text/x-python",
   "name": "python",
   "nbconvert_exporter": "python",
   "pygments_lexer": "ipython3",
   "version": "3.10.6"
  }
 },
 "nbformat": 4,
 "nbformat_minor": 5
}
